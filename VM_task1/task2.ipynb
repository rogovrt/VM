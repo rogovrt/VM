{
 "cells": [
  {
   "cell_type": "code",
   "execution_count": 10,
   "metadata": {},
   "outputs": [],
   "source": [
    "import numpy as np\n",
    "import math\n",
    "#task: find derivative in x = 1950 of grid function where x [1910; 2000] with step = 10;"
   ]
  },
  {
   "cell_type": "code",
   "execution_count": 22,
   "metadata": {
    "scrolled": true
   },
   "outputs": [
    {
     "name": "stdout",
     "output_type": "stream",
     "text": [
      "Derivetive of f(1950) =  2605128.432025975\n"
     ]
    }
   ],
   "source": [
    "f = np.array([92228496., 106021537., 123202624., 132164569., 151325798.,\n",
    "            179323175., 203211926.,  226545805., 248709873., 281421906.], dtype = float)\n",
    "h = 10.\n",
    "A = np.zeros((10, 10))\n",
    "b = np.zeros((10,))\n",
    "b[1] = 1\n",
    "for i in range(10):\n",
    "    h1 = (i - 4) * h\n",
    "    for j in range(10):\n",
    "        if i != 4:\n",
    "            A[j, i] = h1 ** j / math.factorial(j)\n",
    "        else:\n",
    "            if j == 0:\n",
    "                A[j, i] = 1\n",
    "            else:\n",
    "                A[j, i] = 0\n",
    "coefs = np.linalg.solve(A, b)\n",
    "res = 0\n",
    "for i in range(10):\n",
    "    res = res + coefs[i]*f[i]\n",
    "print(\"Derivetive of f(1950) = \", res)"
   ]
  },
  {
   "cell_type": "code",
   "execution_count": null,
   "metadata": {},
   "outputs": [],
   "source": []
  }
 ],
 "metadata": {
  "kernelspec": {
   "display_name": "Python 3",
   "language": "python",
   "name": "python3"
  },
  "language_info": {
   "codemirror_mode": {
    "name": "ipython",
    "version": 3
   },
   "file_extension": ".py",
   "mimetype": "text/x-python",
   "name": "python",
   "nbconvert_exporter": "python",
   "pygments_lexer": "ipython3",
   "version": "3.7.6"
  }
 },
 "nbformat": 4,
 "nbformat_minor": 4
}
